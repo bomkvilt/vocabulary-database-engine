{
 "cells": [
  {
   "cell_type": "code",
   "execution_count": null,
   "metadata": {},
   "outputs": [],
   "source": [
    "import importlib\n",
    "\n",
    "from engine.views import notebook_io\n",
    "notebook_io = importlib.reload(notebook_io)"
   ]
  },
  {
   "cell_type": "code",
   "execution_count": null,
   "metadata": {},
   "outputs": [],
   "source": [
    "default_config = notebook_io.ElementConfig(\n",
    "    show_debug_frames=False,\n",
    ")\n",
    "\n",
    "form = notebook_io.WordInputForm(config=default_config)\n",
    "form.get_widget()"
   ]
  },
  {
   "cell_type": "code",
   "execution_count": null,
   "metadata": {},
   "outputs": [],
   "source": [
    "# import asyncio\n",
    "\n",
    "\n",
    "# def wait_for_change(widget: widgets.Widget, names: list[str] | str):\n",
    "#     future = asyncio.Future[Any]()\n",
    "\n",
    "#     def getvalue(change: dict[str, Any]):\n",
    "#         future.set_result(change[\"new\"])\n",
    "#         widget.unobserve(getvalue, names)  # type: ignore\n",
    "\n",
    "#     widget.observe(getvalue, names)  # type: ignore\n",
    "#     return future\n",
    "\n",
    "\n",
    "# slider = widgets.IntSlider()\n",
    "\n",
    "# async def f():\n",
    "#     for i in range(10):\n",
    "#         print('did work %s'%i)\n",
    "#         x = await wait_for_change(slider, 'value')\n",
    "#         y = await wait_for_change(slider, 'value')\n",
    "#         print(f'async function continued with value {x} {y}')\n",
    "\n",
    "# asyncio.ensure_future(f())\n",
    "\n",
    "# slider"
   ]
  },
  {
   "cell_type": "code",
   "execution_count": null,
   "metadata": {},
   "outputs": [],
   "source": [
    "# slider = widgets.Select(\n",
    "#     description='Fruits',\n",
    "#     disabled=False,\n",
    "#     options=['Apples', 'Oranges', 'Pears'],\n",
    "#     value='Apples',\n",
    "#     rows=2,\n",
    "# )\n",
    "# display(slider)\n",
    "\n",
    "\n",
    "# def tmp(change):\n",
    "#     print(change)\n",
    "\n",
    "\n",
    "# # slider.observe(tmp, names=[\"value\"])\n",
    "# slider.observe(tmp)\n",
    "# slider.value"
   ]
  },
  {
   "cell_type": "code",
   "execution_count": null,
   "metadata": {},
   "outputs": [],
   "source": [
    "# import pathlib\n",
    "\n",
    "# tmp: dict[pathlib.Path, int] = {}\n",
    "# for path in pathlib.Path(\".\").glob(\"engine/**/*.py\"):\n",
    "#     tmp[path] = len(path.read_text(\"utf-8\").split(\"\\n\"))\n",
    "\n",
    "# print(tmp)\n",
    "# print(sum(tmp.values()))"
   ]
  }
 ],
 "metadata": {
  "kernelspec": {
   "display_name": ".venv",
   "language": "python",
   "name": "python3"
  },
  "language_info": {
   "codemirror_mode": {
    "name": "ipython",
    "version": 3
   },
   "file_extension": ".py",
   "mimetype": "text/x-python",
   "name": "python",
   "nbconvert_exporter": "python",
   "pygments_lexer": "ipython3",
   "version": "3.11.0"
  },
  "orig_nbformat": 4,
  "vscode": {
   "interpreter": {
    "hash": "ca81175ee4f31736ad9c4acadc5f4d96010594c6d8741441477b0f1e5be8f723"
   }
  }
 },
 "nbformat": 4,
 "nbformat_minor": 2
}
