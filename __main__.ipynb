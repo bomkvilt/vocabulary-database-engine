{
 "cells": [
  {
   "cell_type": "code",
   "execution_count": 1,
   "metadata": {},
   "outputs": [],
   "source": [
    "import ipywidgets as widgets\n",
    "from typing import Any\n",
    "\n",
    "from engine.views.notebook_io import ElementConfig, WordInputForm"
   ]
  },
  {
   "cell_type": "code",
   "execution_count": 2,
   "metadata": {},
   "outputs": [
    {
     "data": {
      "application/vnd.jupyter.widget-view+json": {
       "model_id": "2a6e8969f97b4eb0b00fe388ee228b44",
       "version_major": 2,
       "version_minor": 0
      },
      "text/plain": [
       "AppLayout(children=(Label(value='Word input and update form', layout=Layout(border='1px solid black', grid_are…"
      ]
     },
     "metadata": {},
     "output_type": "display_data"
    },
    {
     "name": "stdout",
     "output_type": "stream",
     "text": [
      "ValueChangeInfo(new_value='s', old_value='', widget=Text(value='s', description='Word:', layout=Layout(border='1px solid black', width='99%'), placeholder='Start to type a word here'))\n",
      "ValueChangeInfo(new_value='ss', old_value='s', widget=Text(value='ss', description='Word:', layout=Layout(border='1px solid black', width='99%'), placeholder='Start to type a word here'))\n",
      "ValueChangeInfo(new_value='s', old_value='', widget=Text(value='s', description='Form:', layout=Layout(border='1px solid black', width='99%'), placeholder='Start to type a word form here'))\n",
      "ValueChangeInfo(new_value='ss', old_value='s', widget=Text(value='ss', description='Form:', layout=Layout(border='1px solid black', width='99%'), placeholder='Start to type a word form here'))\n",
      "ValueChangeInfo(new_value='sss', old_value='ss', widget=Text(value='sss', description='Form:', layout=Layout(border='1px solid black', width='99%'), placeholder='Start to type a word form here'))\n"
     ]
    }
   ],
   "source": [
    "default_config = ElementConfig(\n",
    "    show_debug_frames=True,\n",
    ")\n",
    "\n",
    "form = WordInputForm(config=default_config)\n",
    "form.get_widget()"
   ]
  },
  {
   "cell_type": "code",
   "execution_count": 3,
   "metadata": {},
   "outputs": [],
   "source": [
    "# import asyncio\n",
    "\n",
    "\n",
    "# def wait_for_change(widget: widgets.Widget, names: list[str] | str):\n",
    "#     future = asyncio.Future[Any]()\n",
    "\n",
    "#     def getvalue(change: dict[str, Any]):\n",
    "#         future.set_result(change[\"new\"])\n",
    "#         widget.unobserve(getvalue, names)  # type: ignore\n",
    "\n",
    "#     widget.observe(getvalue, names)  # type: ignore\n",
    "#     return future\n",
    "\n",
    "\n",
    "# slider = widgets.IntSlider()\n",
    "\n",
    "# async def f():\n",
    "#     for i in range(10):\n",
    "#         print('did work %s'%i)\n",
    "#         x = await wait_for_change(slider, 'value')\n",
    "#         y = await wait_for_change(slider, 'value')\n",
    "#         print(f'async function continued with value {x} {y}')\n",
    "\n",
    "# asyncio.ensure_future(f())\n",
    "\n",
    "# slider"
   ]
  },
  {
   "cell_type": "code",
   "execution_count": 4,
   "metadata": {},
   "outputs": [],
   "source": [
    "# slider = widgets.Select(\n",
    "#     description='Fruits',\n",
    "#     disabled=False,\n",
    "#     options=['Apples', 'Oranges', 'Pears'],\n",
    "#     value='Apples',\n",
    "#     rows=2,\n",
    "# )\n",
    "# display(slider)\n",
    "\n",
    "\n",
    "# def tmp(change):\n",
    "#     print(change)\n",
    "\n",
    "\n",
    "# # slider.observe(tmp, names=[\"value\"])\n",
    "# slider.observe(tmp)\n",
    "# slider.value"
   ]
  }
 ],
 "metadata": {
  "kernelspec": {
   "display_name": ".venv",
   "language": "python",
   "name": "python3"
  },
  "language_info": {
   "codemirror_mode": {
    "name": "ipython",
    "version": 3
   },
   "file_extension": ".py",
   "mimetype": "text/x-python",
   "name": "python",
   "nbconvert_exporter": "python",
   "pygments_lexer": "ipython3",
   "version": "3.11.0"
  },
  "orig_nbformat": 4,
  "vscode": {
   "interpreter": {
    "hash": "ca81175ee4f31736ad9c4acadc5f4d96010594c6d8741441477b0f1e5be8f723"
   }
  }
 },
 "nbformat": 4,
 "nbformat_minor": 2
}
